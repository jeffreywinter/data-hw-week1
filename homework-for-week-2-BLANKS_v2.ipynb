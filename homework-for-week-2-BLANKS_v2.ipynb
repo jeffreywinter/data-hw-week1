{
 "cells": [
  {
   "cell_type": "markdown",
   "metadata": {
    "id": "R6SmhOOxaFTn"
   },
   "source": [
    "# Homework for Week 2\n"
   ]
  },
  {
   "cell_type": "markdown",
   "metadata": {
    "id": "FtBGyPEuaFTo"
   },
   "source": [
    "## Working with Numbers"
   ]
  },
  {
   "cell_type": "code",
   "execution_count": 15,
   "metadata": {
    "id": "RPtXtDhEaFTp"
   },
   "outputs": [
    {
     "name": "stdout",
     "output_type": "stream",
     "text": [
      "Sales totalled $43,300,300 in 2019.\n"
     ]
    }
   ],
   "source": [
    "## create a variable called sales equal to 45.3 million\n",
    "## print it as \"Sales totalled $45,300,000 in 2019\" using f-string literal (0 decimal places)\n",
    "## use thousands separator/digit group separator to make it easier to read\n",
    "sales = 43_300_300\n",
    "print(f\"Sales totalled ${sales:,.0f} in 2019.\")"
   ]
  },
  {
   "cell_type": "code",
   "execution_count": 16,
   "metadata": {
    "id": "ECSh04wFaFTt"
   },
   "outputs": [
    {
     "name": "stdout",
     "output_type": "stream",
     "text": [
      "1,410,000,000\n"
     ]
    }
   ],
   "source": [
    "## create a variable called apple_cap equal to $1.41 trillion in scientific notation\n",
    "## Print it like you did above but to no decimal places.\n",
    "apple_cap = 1_410_000_000\n",
    "print(f\"{apple_cap:,}\")"
   ]
  },
  {
   "cell_type": "markdown",
   "metadata": {
    "id": "qUiBkO2LaFTw"
   },
   "source": [
    "## Working with Lists"
   ]
  },
  {
   "cell_type": "code",
   "execution_count": 17,
   "metadata": {
    "id": "XvSKlFugaFTx"
   },
   "outputs": [
    {
     "name": "stdout",
     "output_type": "stream",
     "text": [
      "['Bankruptcy', 'Mergers', 'Acquisitions', 'Short selling', 'Liquidations', 'Equity']\n"
     ]
    }
   ],
   "source": [
    "## Combine the two lists into a single list called combined_list\n",
    "terms_1 = [\"Bankruptcy\", \"Mergers\", \"Acquisitions\"]\n",
    "terms_2 = [\"Short selling\", \"Liquidations\", \"Equity\"]\n",
    "combined_list = terms_1 + terms_2\n",
    "print(combined_list)"
   ]
  },
  {
   "cell_type": "markdown",
   "metadata": {
    "id": "9D2piamnaFT0"
   },
   "source": [
    "## Working with List of Dictionaries\n",
    "\n",
    "#### Create a list of dictionaries called \"donations\" using the content from the image below:\n",
    "\n",
    "![alt text](https://raw.githubusercontent.com/sandeepmj/practical_python_exercises/master/support_files/donors.png)\n",
    "\n",
    "\n",
    "\n",
    "## If you want to copy and paste the content, click <a href=\"https://github.com/sandeepmj/practical_python_exercises/blob/master/support_files/giving.xlsx?raw=true\" target=\"blank\">here</a> to download the Excel file.\n",
    "More instructions in the next cell:"
   ]
  },
  {
   "cell_type": "code",
   "execution_count": 18,
   "metadata": {
    "id": "_y4IeSSMaFT1"
   },
   "outputs": [
    {
     "name": "stdout",
     "output_type": "stream",
     "text": [
      "[{'year': '2017', 'donor': 'David H Koch Charitable Foundation', 'grantee': 'City Center for Music And Drama', 'amount': 15000000}, {'year': '2013', 'donor': 'Bradley Impact Fund Inc', 'grantee': 'Young Americans Foundation', 'amount': 11000}, {'year': '2016', 'donor': 'Mercer Family Foundation', 'grantee': 'The Becket Fund', 'amount': 250000}, {'year': '2012', 'donor': 'Charles Koch Foundation', 'grantee': 'The Phillips Foundation', 'amount': 25000}, {'year': '2017', 'donor': 'Barbara and Barre Seid Foundation', 'grantee': 'Boys Scouts of America', 'amount': 2634600}]\n"
     ]
    }
   ],
   "source": [
    "## You may copy the contents of each cell in the XLSX file, but...\n",
    "## ...type out all the code.\n",
    "## ## print or call the list of dictionaries\n",
    "\n",
    "donations = [{\"year\": \"2017\", \"donor\": \"David H Koch Charitable Foundation\", \"grantee\": \"City Center for Music And Drama\", \"amount\": 15_000_000},\n",
    "            {\"year\": \"2013\", \"donor\": \"Bradley Impact Fund Inc\", \"grantee\": \"Young Americans Foundation\", \"amount\": 11_000},\n",
    "            {\"year\": \"2016\", \"donor\": \"Mercer Family Foundation\", \"grantee\": \"The Becket Fund\", \"amount\": 250_000},\n",
    "            {\"year\": \"2012\", \"donor\": \"Charles Koch Foundation\", \"grantee\": \"The Phillips Foundation\", \"amount\": 25_000},\n",
    "            {\"year\": \"2017\", \"donor\": \"Barbara and Barre Seid Foundation\", \"grantee\": \"Boys Scouts of America\", \"amount\": 2_634_600}\n",
    "            ]\n",
    "print(donations)      "
   ]
  },
  {
   "cell_type": "code",
   "execution_count": 19,
   "metadata": {
    "id": "CyZqlARYaFT4"
   },
   "outputs": [
    {
     "data": {
      "text/plain": [
       "5"
      ]
     },
     "execution_count": 19,
     "metadata": {},
     "output_type": "execute_result"
    }
   ],
   "source": [
    "## How many items are in this list?\n",
    "## Don't just manually count them.\n",
    "## There will come a time when you will have thousands of items!\n",
    "len(donations)"
   ]
  },
  {
   "cell_type": "code",
   "execution_count": 20,
   "metadata": {
    "id": "DPBk1u92aFT8"
   },
   "outputs": [
    {
     "data": {
      "text/plain": [
       "[{'year': '2017',\n",
       "  'donor': 'Barbara and Barre Seid Foundation',\n",
       "  'grantee': 'Boys Scouts of America',\n",
       "  'amount': 2634600}]"
      ]
     },
     "execution_count": 20,
     "metadata": {},
     "output_type": "execute_result"
    }
   ],
   "source": [
    "## How many key/value pairs are there in the last dictionary\n",
    "keys_list = [donations[4]]\n",
    "keys_list"
   ]
  },
  {
   "cell_type": "code",
   "execution_count": 21,
   "metadata": {
    "id": "lwWbCgqTaFT_"
   },
   "outputs": [
    {
     "name": "stdout",
     "output_type": "stream",
     "text": [
      "{'year': '2017', 'donor': 'David H Koch Charitable Foundation', 'grantee': 'City Center for Music And Drama', 'amount': 15000000, 'category': 'youth'}\n"
     ]
    }
   ],
   "source": [
    "## Add one more key/value pair to the first dictionary in the list\n",
    "## Add: \"category\": \"youth\"\n",
    "donations[0].update({\"category\": \"youth\"})\n",
    "print(donations[0])"
   ]
  },
  {
   "cell_type": "code",
   "execution_count": 22,
   "metadata": {
    "id": "yz3szN8PaFUC"
   },
   "outputs": [
    {
     "name": "stdout",
     "output_type": "stream",
     "text": [
      "{'year': '2016', 'donor': 'Mercer Family Foundation', 'grantee': 'The Becket Fund', 'amount': 250000}\n"
     ]
    }
   ],
   "source": [
    "## Show the 3rd item in the list (including keys and values)\n",
    "print(donations[2])"
   ]
  },
  {
   "cell_type": "code",
   "execution_count": 23,
   "metadata": {
    "id": "l7nVl-yKaFUF"
   },
   "outputs": [
    {
     "name": "stdout",
     "output_type": "stream",
     "text": [
      "[{'year': '2013', 'donor': 'Bradley Impact Fund Inc', 'grantee': 'Young Americans Foundation', 'amount': 11000}, {'year': '2016', 'donor': 'Mercer Family Foundation', 'grantee': 'The Becket Fund', 'amount': 250000}, {'year': '2012', 'donor': 'Charles Koch Foundation', 'grantee': 'The Phillips Foundation', 'amount': 25000}, {'year': '2017', 'donor': 'Barbara and Barre Seid Foundation', 'grantee': 'Boys Scouts of America', 'amount': 2634600}]\n"
     ]
    }
   ],
   "source": [
    "##show the 2nd through last:\n",
    "print(donations[1:5])"
   ]
  },
  {
   "cell_type": "code",
   "execution_count": 24,
   "metadata": {
    "id": "L3rz8Y3_aFUI"
   },
   "outputs": [
    {
     "data": {
      "text/plain": [
       "['year', 'donor', 'grantee', 'amount', 'category']"
      ]
     },
     "execution_count": 24,
     "metadata": {},
     "output_type": "execute_result"
    }
   ],
   "source": [
    "## Go full circle and create a list that holds just the column headers.\n",
    "## Call that list \"csv_columns\"\n",
    "## print the list\n",
    "csv_columns = [*donations[0]]\n",
    "csv_columns"
   ]
  },
  {
   "cell_type": "markdown",
   "metadata": {
    "id": "v5c9PH1aaFUL"
   },
   "source": [
    "### Removing items from a dictionary\n",
    "We realize the first item in the list of dictionaries is the only one with \"category\" key. "
   ]
  },
  {
   "cell_type": "code",
   "execution_count": 25,
   "metadata": {
    "id": "NgmwK6x6aFUL"
   },
   "outputs": [
    {
     "data": {
      "text/plain": [
       "{'year': '2017',\n",
       " 'donor': 'David H Koch Charitable Foundation',\n",
       " 'grantee': 'City Center for Music And Drama',\n",
       " 'amount': 15000000}"
      ]
     },
     "execution_count": 25,
     "metadata": {},
     "output_type": "execute_result"
    }
   ],
   "source": [
    "## Remove that single key/value pair prior to the next task.\n",
    "donations[0].pop(\"category\",\"youth\")\n",
    "donations[0]"
   ]
  },
  {
   "cell_type": "code",
   "execution_count": 26,
   "metadata": {
    "id": "Bcr0BCclaFUO"
   },
   "outputs": [
    {
     "name": "stdout",
     "output_type": "stream",
     "text": [
      "['year', 'donor', 'grantee', 'amount', 'year', 'donor', 'grantee', 'amount', 'year', 'donor', 'grantee', 'amount', 'year', 'donor', 'grantee', 'amount', 'year', 'donor', 'grantee', 'amount']\n"
     ]
    }
   ],
   "source": [
    "## Create the column headers again\n",
    "## Call that list \"csv_columns\"\n",
    "## print the list\n",
    "\n",
    "csv_columns_1 = []\n",
    "for d in donations:\n",
    "    csv_columns_1.extend(d)\n",
    "    \n",
    "print(csv_columns_1)"
   ]
  },
  {
   "cell_type": "code",
   "execution_count": 27,
   "metadata": {},
   "outputs": [
    {
     "data": {
      "text/plain": [
       "list"
      ]
     },
     "execution_count": 27,
     "metadata": {},
     "output_type": "execute_result"
    }
   ],
   "source": [
    "type(csv_columns_1)"
   ]
  },
  {
   "cell_type": "code",
   "execution_count": 28,
   "metadata": {},
   "outputs": [
    {
     "name": "stdout",
     "output_type": "stream",
     "text": [
      "['year', 'grantee', 'amount', 'donor']\n"
     ]
    }
   ],
   "source": [
    "csv_columns = list(set(csv_columns_1))\n",
    "print(csv_columns)"
   ]
  },
  {
   "cell_type": "markdown",
   "metadata": {
    "id": "p_kTKQuVaFUR"
   },
   "source": [
    "### What are relevant journalistic uses for the various methods above?\n",
    "\n",
    "#### 1. Making numbers more readable (using f-string literal formatting)\n",
    "#### 2. Organizing data points after acquiring them through scraping (creating lists, dictionaries and lists of dictionaries)\n",
    "#### 3. Confirming that we have unique values (or removing duplicates in a data set)\n",
    "#### 4. Creating column headers to prepare data for export to a CSV file"
   ]
  }
 ],
 "metadata": {
  "colab": {
   "collapsed_sections": [],
   "name": "homework-for-week-2-BLANKS.ipynb",
   "provenance": []
  },
  "kernelspec": {
   "display_name": "Python 3",
   "language": "python",
   "name": "python3"
  },
  "language_info": {
   "codemirror_mode": {
    "name": "ipython",
    "version": 3
   },
   "file_extension": ".py",
   "mimetype": "text/x-python",
   "name": "python",
   "nbconvert_exporter": "python",
   "pygments_lexer": "ipython3",
   "version": "3.8.5"
  }
 },
 "nbformat": 4,
 "nbformat_minor": 1
}
